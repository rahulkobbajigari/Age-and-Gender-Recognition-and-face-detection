{
 "cells": [
  {
   "cell_type": "markdown",
   "metadata": {},
   "source": [
    "# DATA AUGMENTATION\n"
   ]
  },
  {
   "cell_type": "code",
   "execution_count": 1,
   "metadata": {
    "collapsed": true,
    "scrolled": false
   },
   "outputs": [],
   "source": [
    "import Augmentor"
   ]
  },
  {
   "cell_type": "code",
   "execution_count": 11,
   "metadata": {},
   "outputs": [
    {
     "name": "stdout",
     "output_type": "stream",
     "text": [
      "Initialised with 43 image(s) found.\n",
      "Output directory set to C:\\Users\\Rahul\\Desktop\\gender and age detection from face\\age classification\\0-10\\output."
     ]
    }
   ],
   "source": [
    "p = Augmentor.Pipeline(\"C:\\\\Users\\\\Rahul\\\\Desktop\\\\gender and age detection from face\\\\age classification\\\\0-10\\\\\")"
   ]
  },
  {
   "cell_type": "code",
   "execution_count": 12,
   "metadata": {},
   "outputs": [
    {
     "name": "stderr",
     "output_type": "stream",
     "text": [
      "                                                                                                                       \r"
     ]
    },
    {
     "name": "stdout",
     "output_type": "stream",
     "text": [
      "43 ground truth image(s) found.\n"
     ]
    },
    {
     "name": "stderr",
     "output_type": "stream",
     "text": [
      "Processing <PIL.Image.Image image mode=RGB size=64x75 at 0x24CB452A278>: 100%|█| 200/200 [00:04<00:00, 43.02 Samples/s]                  \n"
     ]
    }
   ],
   "source": [
    "p.ground_truth(\"C:\\\\Users\\\\Rahul\\\\Desktop\\\\gender and age detection from face\\\\age classification\\\\0-10\\\\\")\n",
    "p.rotate90(probability=0.5)\n",
    "p.rotate270(probability=0.5)\n",
    "p.rotate_without_crop(probability=0.7, max_left_rotation=10, max_right_rotation=10)\n",
    "p.flip_left_right(probability=0.75)\n",
    "p.flip_top_bottom(probability=0.5)\n",
    "#p.crop_random(probability=0.5,percentage_area=0.15)\n",
    "p.sample(200)"
   ]
  },
  {
   "cell_type": "code",
   "execution_count": 13,
   "metadata": {},
   "outputs": [
    {
     "name": "stdout",
     "output_type": "stream",
     "text": [
      "Initialised with 26 image(s) found.\n",
      "Output directory set to C:\\Users\\Rahul\\Desktop\\gender and age detection from face\\age classification\\11-20\\output."
     ]
    }
   ],
   "source": [
    "p = Augmentor.Pipeline(\"C:\\\\Users\\\\Rahul\\\\Desktop\\\\gender and age detection from face\\\\age classification\\\\11-20\\\\\")"
   ]
  },
  {
   "cell_type": "code",
   "execution_count": 14,
   "metadata": {},
   "outputs": [
    {
     "name": "stderr",
     "output_type": "stream",
     "text": [
      "Processing <PIL.Image.Image image mode=RGB size=99x116 at 0x24CB4519240>: 100%|█| 250/250 [00:03<00:00, 62.90 Samples/s]                    \n"
     ]
    }
   ],
   "source": [
    "p.rotate90(probability=0.5)\n",
    "p.rotate270(probability=0.5)\n",
    "p.rotate_without_crop(probability=0.7, max_left_rotation=10, max_right_rotation=10)\n",
    "#p.flip_left_right(probability=0.75)\n",
    "#p.flip_top_bottom(probability=0.5)\n",
    "#p.crop_random(probability=0.5,percentage_area=0.15)\n",
    "p.sample(250)"
   ]
  },
  {
   "cell_type": "code",
   "execution_count": 15,
   "metadata": {},
   "outputs": [
    {
     "name": "stdout",
     "output_type": "stream",
     "text": [
      "Initialised with 71 image(s) found.\n",
      "Output directory set to C:\\Users\\Rahul\\Desktop\\gender and age detection from face\\age classification\\21-34\\output."
     ]
    }
   ],
   "source": [
    "p = Augmentor.Pipeline(\"C:\\\\Users\\\\Rahul\\\\Desktop\\\\gender and age detection from face\\\\age classification\\\\21-34\\\\\")"
   ]
  },
  {
   "cell_type": "code",
   "execution_count": 16,
   "metadata": {},
   "outputs": [
    {
     "name": "stderr",
     "output_type": "stream",
     "text": [
      "Processing <PIL.Image.Image image mode=RGB size=358x491 at 0x24CB458B048>: 100%|█| 100/100 [00:01<00:00, 70.64 Samples/s]\n"
     ]
    }
   ],
   "source": [
    "p.rotate90(probability=0.5)\n",
    "p.rotate270(probability=0.5)\n",
    "p.rotate_without_crop(probability=0.7, max_left_rotation=10, max_right_rotation=10)\n",
    "p.flip_left_right(probability=0.75)\n",
    "p.flip_top_bottom(probability=0.5)\n",
    "#p.crop_random(probability=0.5,percentage_area=0.15)\n",
    "p.sample(100)"
   ]
  },
  {
   "cell_type": "code",
   "execution_count": 9,
   "metadata": {},
   "outputs": [
    {
     "name": "stdout",
     "output_type": "stream",
     "text": [
      "Initialised with 41 image(s) found.\n",
      "Output directory set to C:\\Users\\Rahul\\Desktop\\gender and age detection from face\\age classification\\35-69\\output."
     ]
    }
   ],
   "source": [
    "p = Augmentor.Pipeline(\"C:\\\\Users\\\\Rahul\\\\Desktop\\\\gender and age detection from face\\\\age classification\\\\35-69\\\\\")"
   ]
  },
  {
   "cell_type": "code",
   "execution_count": 10,
   "metadata": {},
   "outputs": [
    {
     "name": "stderr",
     "output_type": "stream",
     "text": [
      "Processing <PIL.Image.Image image mode=RGB size=451x293 at 0x15DA67DDCF8>: 100%|█| 200/200 [00:03<00:00, 54.39 Samples/s]                 \n"
     ]
    }
   ],
   "source": [
    "p.rotate90(probability=0.5)\n",
    "p.rotate270(probability=0.5)\n",
    "p.rotate_without_crop(probability=0.7, max_left_rotation=10, max_right_rotation=10)\n",
    "p.flip_left_right(probability=0.75)\n",
    "p.flip_top_bottom(probability=0.5)\n",
    "#p.crop_random(probability=0.5,percentage_area=0.15)\n",
    "p.sample(200)"
   ]
  },
  {
   "cell_type": "code",
   "execution_count": 11,
   "metadata": {},
   "outputs": [
    {
     "name": "stdout",
     "output_type": "stream",
     "text": [
      "Initialised with 39 image(s) found.\n",
      "Output directory set to C:\\Users\\Rahul\\Desktop\\gender and age detection from face\\age classification\\70+\\output."
     ]
    }
   ],
   "source": [
    "p = Augmentor.Pipeline(\"C:\\\\Users\\\\Rahul\\\\Desktop\\\\gender and age detection from face\\\\age classification\\\\70+\\\\\")"
   ]
  },
  {
   "cell_type": "code",
   "execution_count": 12,
   "metadata": {},
   "outputs": [
    {
     "name": "stderr",
     "output_type": "stream",
     "text": [
      "Processing <PIL.Image.Image image mode=RGB size=133x142 at 0x15DA57EFAC8>: 100%|█| 200/200 [00:03<00:00, 53.16 Samples/s]                 \n"
     ]
    }
   ],
   "source": [
    "p.rotate90(probability=0.5)\n",
    "p.rotate270(probability=0.5)\n",
    "p.rotate_without_crop(probability=0.7, max_left_rotation=10, max_right_rotation=10)\n",
    "p.flip_left_right(probability=0.75)\n",
    "p.flip_top_bottom(probability=0.5)\n",
    "#p.crop_random(probability=0.5,percentage_area=0.15)\n",
    "p.sample(200)"
   ]
  },
  {
   "cell_type": "code",
   "execution_count": 2,
   "metadata": {},
   "outputs": [
    {
     "name": "stdout",
     "output_type": "stream",
     "text": [
      "Initialised with 80 image(s) found.\n",
      "Output directory set to C:\\Users\\Rahul\\Desktop\\gender and age detection from face\\gender classification\\female\\output."
     ]
    }
   ],
   "source": [
    "p = Augmentor.Pipeline(\"C:\\\\Users\\\\Rahul\\\\Desktop\\\\gender and age detection from face\\\\gender classification\\\\female\\\\\")"
   ]
  },
  {
   "cell_type": "code",
   "execution_count": 3,
   "metadata": {},
   "outputs": [
    {
     "name": "stderr",
     "output_type": "stream",
     "text": [
      "Processing <PIL.Image.Image image mode=RGB size=51x67 at 0x20EA98E8C50>: 100%|█| 200/200 [00:04<00:00, 43.59 Samples/s]  \n"
     ]
    }
   ],
   "source": [
    "p.rotate90(probability=0.5)\n",
    "p.rotate270(probability=0.5)\n",
    "p.rotate_without_crop(probability=0.7, max_left_rotation=10, max_right_rotation=10)\n",
    "p.flip_left_right(probability=0.75)\n",
    "p.flip_top_bottom(probability=0.5)\n",
    "#p.crop_random(probability=0.5,percentage_area=0.15)\n",
    "p.sample(200)"
   ]
  },
  {
   "cell_type": "code",
   "execution_count": 6,
   "metadata": {},
   "outputs": [
    {
     "name": "stdout",
     "output_type": "stream",
     "text": [
      "Initialised with 123 image(s) found.\n",
      "Output directory set to C:\\Users\\Rahul\\Desktop\\gender and age detection from face\\gender classification\\male\\output."
     ]
    }
   ],
   "source": [
    "p = Augmentor.Pipeline(\"C:\\\\Users\\\\Rahul\\\\Desktop\\\\gender and age detection from face\\\\gender classification\\\\male\\\\\")"
   ]
  },
  {
   "cell_type": "code",
   "execution_count": 7,
   "metadata": {},
   "outputs": [
    {
     "name": "stderr",
     "output_type": "stream",
     "text": [
      "Processing <PIL.Image.Image image mode=RGB size=131x99 at 0x20EA9044A58>: 100%|█| 200/200 [00:04<00:00, 42.91 Samples/s] \n"
     ]
    }
   ],
   "source": [
    "p.rotate90(probability=0.5)\n",
    "p.rotate270(probability=0.5)\n",
    "p.rotate_without_crop(probability=0.7, max_left_rotation=10, max_right_rotation=10)\n",
    "p.flip_left_right(probability=0.75)\n",
    "p.flip_top_bottom(probability=0.5)\n",
    "#p.crop_random(probability=0.5,percentage_area=0.15)\n",
    "p.sample(200)"
   ]
  },
  {
   "cell_type": "code",
   "execution_count": null,
   "metadata": {
    "collapsed": true
   },
   "outputs": [],
   "source": []
  }
 ],
 "metadata": {
  "kernelspec": {
   "display_name": "Python 3",
   "language": "python",
   "name": "python3"
  },
  "language_info": {
   "codemirror_mode": {
    "name": "ipython",
    "version": 3
   },
   "file_extension": ".py",
   "mimetype": "text/x-python",
   "name": "python",
   "nbconvert_exporter": "python",
   "pygments_lexer": "ipython3",
   "version": "3.6.1"
  }
 },
 "nbformat": 4,
 "nbformat_minor": 2
}
